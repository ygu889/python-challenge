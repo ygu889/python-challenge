{
 "cells": [
  {
   "cell_type": "code",
   "execution_count": 20,
   "id": "b1596e72",
   "metadata": {},
   "outputs": [
    {
     "name": "stdout",
     "output_type": "stream",
     "text": [
      "/Users/yegu/Documents/python-challenge/PyBank\r\n"
     ]
    }
   ],
   "source": [
    "!pwd"
   ]
  },
  {
   "cell_type": "code",
   "execution_count": 21,
   "id": "f7e8e668",
   "metadata": {},
   "outputs": [],
   "source": [
    "#first import the os module & module to read csv file \n",
    "import os\n",
    "import csv      "
   ]
  },
  {
   "cell_type": "code",
   "execution_count": 22,
   "id": "ad9dd2d7",
   "metadata": {},
   "outputs": [],
   "source": [
    "#set path to the file to collect data\n",
    "budget_data_csv = os.path.join(\"Resources\", \"budget_data.csv\")"
   ]
  },
  {
   "cell_type": "code",
   "execution_count": 23,
   "id": "8ec1b1da",
   "metadata": {},
   "outputs": [],
   "source": [
    "# Lists to store data\n",
    "month =[]\n",
    "profit_loss=[]\n",
    "profit_loss_change=[]"
   ]
  },
  {
   "cell_type": "code",
   "execution_count": 24,
   "id": "7d2951b5",
   "metadata": {},
   "outputs": [
    {
     "name": "stdout",
     "output_type": "stream",
     "text": [
      "Financial Analysis\n",
      "----------------------------\n",
      "Total Months: 86\n",
      "Total: $22564198\n",
      "Average change: $-8311.11\n",
      "Greatest Increase in Profits: Aug-16 ($1862002)\n",
      "Greatest Decrease in Profits: Feb-14 ($-1825558)\n"
     ]
    }
   ],
   "source": [
    "#open and read csv\n",
    "with open(budget_data_csv) as csv_file:\n",
    "    csvreader = csv.reader(csv_file, delimiter=\",\")\n",
    "    \n",
    "    # Read the header row first \n",
    "    csv_header = next(csv_file)\n",
    "    #print(f\"Header: {csv_header}\")\n",
    "    \n",
    "    #Read each row of data after the header\n",
    "    for row in csvreader:\n",
    "        #add month\n",
    "        month.append(row[0])\n",
    "        #add profit/loss\n",
    "        profit_loss.append(int(row[1]))\n",
    "        \n",
    "    #Loop through each value in profit and loss \n",
    "    for i in range(len(profit_loss)-1):\n",
    "        #add the profit/loss_change \n",
    "        profit_loss_change.append(profit_loss[i+1]-(profit_loss[i])) \n",
    "\n",
    "#count number of month\n",
    "count_months=len(month)\n",
    "#calculate the net total amount of \"Profit/Losses\" over the entire period\n",
    "Total_profit_loss=sum(profit_loss)\n",
    "#calculate the average of profit/loss over the entire period\n",
    "average_profit_loss = sum(profit_loss_change)/len(profit_loss_change)\n",
    "#determine the max and min of profit\n",
    "greatest_increase=max(profit_loss_change)\n",
    "greatest_decrease=min(profit_loss_change)\n",
    "#use index to find the month of greatest increase & decrease in profit\n",
    "month_increase=profit_loss_change.index(greatest_increase)+1\n",
    "month_decrease=profit_loss_change.index(greatest_decrease)+1  \n",
    "\n",
    "#Print out the results:\n",
    "print(\"Financial Analysis\")\n",
    "print(\"----------------------------\")\n",
    "print(f\"Total Months: {count_months}\")\n",
    "print(f\"Total: ${Total_profit_loss}\") \n",
    "print(f\"Average change: ${round((average_profit_loss),2)}\")\n",
    "print(f\"Greatest Increase in Profits: {month[month_increase]} (${(str(greatest_increase))})\")\n",
    "print(f\"Greatest Decrease in Profits: {month[month_decrease]} (${(str(greatest_decrease))})\")  "
   ]
  },
  {
   "cell_type": "code",
   "execution_count": 25,
   "id": "8db8242f",
   "metadata": {},
   "outputs": [],
   "source": [
    "#  Open the output file\n",
    "with open('analysis/budget_data_output', \"w\") as new:\n",
    "    new.write(\"Financial Analysis\")\n",
    "    new.write(\"\\n\")\n",
    "    new.write(\"----------------------------\")\n",
    "    new.write(\"\\n\")\n",
    "    new.write(f\"Total Months: {count_months}\")\n",
    "    new.write(\"\\n\")\n",
    "    new.write(f\"Total: ${Total_profit_loss}\")\n",
    "    new.write(\"\\n\")\n",
    "    new.write(f\"Average change: ${round((average_profit_loss),2)}\")\n",
    "    new.write(\"\\n\")\n",
    "    new.write(f\"Greatest Increase in Profits: {month[month_increase]} (${(str(greatest_increase))})\")\n",
    "    new.write(\"\\n\")\n",
    "    new.write(f\"Greatest Decrease in Profits: {month[month_decrease]} (${(str(greatest_decrease))})\")  "
   ]
  },
  {
   "cell_type": "code",
   "execution_count": null,
   "id": "14d6857d",
   "metadata": {},
   "outputs": [],
   "source": []
  }
 ],
 "metadata": {
  "kernelspec": {
   "display_name": "Python 3 (ipykernel)",
   "language": "python",
   "name": "python3"
  },
  "language_info": {
   "codemirror_mode": {
    "name": "ipython",
    "version": 3
   },
   "file_extension": ".py",
   "mimetype": "text/x-python",
   "name": "python",
   "nbconvert_exporter": "python",
   "pygments_lexer": "ipython3",
   "version": "3.10.9"
  }
 },
 "nbformat": 4,
 "nbformat_minor": 5
}
