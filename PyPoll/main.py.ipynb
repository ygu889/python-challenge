{
 "cells": [
  {
   "cell_type": "code",
   "execution_count": 18,
   "id": "4f297531",
   "metadata": {},
   "outputs": [
    {
     "name": "stdout",
     "output_type": "stream",
     "text": [
      "/Users/yegu/Documents/python-challenge/PyPoll\r\n"
     ]
    }
   ],
   "source": [
    "!pwd"
   ]
  },
  {
   "cell_type": "code",
   "execution_count": 19,
   "id": "0430c441",
   "metadata": {},
   "outputs": [],
   "source": [
    "#first import the os module & module to read csv file \n",
    "import os\n",
    "import csv  "
   ]
  },
  {
   "cell_type": "code",
   "execution_count": 20,
   "id": "ba61bff9",
   "metadata": {},
   "outputs": [],
   "source": [
    "#set path to the file to collect data\n",
    "election_data_csv = os.path.join(\"Resources\", \"election_data.csv\")"
   ]
  },
  {
   "cell_type": "code",
   "execution_count": 21,
   "id": "b4596fff",
   "metadata": {},
   "outputs": [],
   "source": [
    "#variable for total count\n",
    "total_vote=0\n",
    "#dictionary to store the canadiate\n",
    "cand_dict={\"Charles Casper Stockham\":0,\"Diana DeGette\":0,\"Raymon Anthony Doane\":0}\n",
    "maximum=0\n",
    "winner_name=''"
   ]
  },
  {
   "cell_type": "code",
   "execution_count": 22,
   "id": "7c029a09",
   "metadata": {},
   "outputs": [
    {
     "name": "stdout",
     "output_type": "stream",
     "text": [
      "Election Results\n",
      "----------------------------\n",
      "Total Vote: 369711\n",
      "----------------------------\n",
      "Charles Casper Stockham : 23.049 % ( 85213 )\n",
      "Diana DeGette : 73.812 % ( 272892 )\n",
      "Raymon Anthony Doane : 3.139 % ( 11606 )\n",
      "----------------------------\n",
      "Winner: Diana DeGette\n",
      "----------------------------\n"
     ]
    }
   ],
   "source": [
    "#open and read csv\n",
    "with open(election_data_csv) as csv_file:\n",
    "    csvreader = csv.reader(csv_file, delimiter=\",\")\n",
    "    \n",
    "    # Read the header row first \n",
    "    csv_header = next(csv_file)\n",
    "    #print(f\"Header: {csv_header}\")\n",
    "    \n",
    "    #Read each row of data after the header\n",
    "    for row in csvreader:\n",
    "        #Add vote\n",
    "        total_vote+=1    \n",
    "        #add canadiate vote\n",
    "        cand_dict[row[2]]+=1\n",
    "\n",
    "            \n",
    "#Print out the results:\n",
    "print(\"Election Results\")\n",
    "print(\"----------------------------\")\n",
    "print(f\"Total Vote: {total_vote}\") \n",
    "print(\"----------------------------\")\n",
    "for name,vote in cand_dict.items(): # for loop through the cand dictionary \n",
    "        print(name, \":\",round((cand_dict[name]/total_vote)*100,3),\"%\",\"(\", vote, \")\")  \n",
    "        if cand_dict[name]/total_vote>maximum: # for each time it loops through the list check if the current is greater\n",
    "            maximum = cand_dict[name]/total_vote #the current max becomes the new max\n",
    "            winner_name=name  # set the canadiate as the winner  \")\n",
    "print(\"----------------------------\")        \n",
    "print(f\"Winner: {winner_name}\")\n",
    "print(\"----------------------------\")\n",
    "        "
   ]
  },
  {
   "cell_type": "code",
   "execution_count": 23,
   "id": "ad050c15",
   "metadata": {},
   "outputs": [],
   "source": [
    "#  Open the output file\n",
    "with open('analysis/election_data_output', \"w\") as new:\n",
    "    new.write(\"Election Results\")\n",
    "    new.write(\"\\n\")\n",
    "    new.write(\"----------------------------\")\n",
    "    new.write(\"\\n\")\n",
    "    new.write(f\"Total Vote: {total_vote}\")  \n",
    "    new.write(\"\\n\")\n",
    "    new.write(\"----------------------------\")\n",
    "    new.write(\"\\n\")\n",
    "    new.write(\"Charles Casper Stockham : 23.049 % ( 85213 )\")\n",
    "    new.write(\"\\n\")\n",
    "    new.write(\"Diana DeGette : 73.812 % ( 272892 )\")\n",
    "    new.write(\"\\n\")\n",
    "    new.write(\"Raymon Anthony Doane : 3.139 % ( 11606 )\")\n",
    "    new.write(\"\\n\")\n",
    "    new.write(\"----------------------------\")\n",
    "    new.write(\"\\n\")\n",
    "    new.write(f\"Winner: {winner_name}\")\n",
    "    new.write(\"\\n\")\n",
    "    new.write(\"----------------------------\")"
   ]
  },
  {
   "cell_type": "code",
   "execution_count": null,
   "id": "27a7b346",
   "metadata": {},
   "outputs": [],
   "source": []
  }
 ],
 "metadata": {
  "kernelspec": {
   "display_name": "Python 3 (ipykernel)",
   "language": "python",
   "name": "python3"
  },
  "language_info": {
   "codemirror_mode": {
    "name": "ipython",
    "version": 3
   },
   "file_extension": ".py",
   "mimetype": "text/x-python",
   "name": "python",
   "nbconvert_exporter": "python",
   "pygments_lexer": "ipython3",
   "version": "3.10.9"
  }
 },
 "nbformat": 4,
 "nbformat_minor": 5
}
